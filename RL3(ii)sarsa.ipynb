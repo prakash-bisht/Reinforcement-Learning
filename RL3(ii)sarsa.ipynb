{
  "nbformat": 4,
  "nbformat_minor": 0,
  "metadata": {
    "colab": {
      "name": "RL4sarsa.ipynb",
      "provenance": []
    },
    "kernelspec": {
      "name": "python3",
      "display_name": "Python 3"
    }
  },
  "cells": [
    {
      "cell_type": "code",
      "metadata": {
        "id": "HlhHil3FHmac"
      },
      "source": [
        "import sys, os\n",
        "if 'google.colab' in sys.modules and not os.path.exists('.setup_complete'):\n",
        "    !wget -q https://raw.githubusercontent.com/yandexdataschool/Practical_RL/spring20/setup_colab.sh -O- | bash\n",
        "\n",
        "    !wget -q https://raw.githubusercontent.com/yandexdataschool/Practical_RL/coursera/grading.py -O ../grading.py\n",
        "    !wget -q https://raw.githubusercontent.com/yandexdataschool/Practical_RL/coursera/week3_model_free/submit.py\n",
        "\n",
        "    !touch .setup_complete\n",
        "\n",
        "# This code creates a virtual display to draw game images on.\n",
        "# It will have no effect if your machine has a monitor.\n",
        "if type(os.environ.get(\"DISPLAY\")) is not str or len(os.environ.get(\"DISPLAY\")) == 0:\n",
        "    !bash ../xvfb start\n",
        "    os.environ['DISPLAY'] = ':1'"
      ],
      "execution_count": null,
      "outputs": []
    },
    {
      "cell_type": "code",
      "metadata": {
        "id": "eGaukhKTOJ4a"
      },
      "source": [
        "import numpy as np \n",
        "import matplotlib.pyplot as plt\n",
        "import math \n",
        "import random \n",
        "from collections import defaultdict \n",
        " "
      ],
      "execution_count": 1,
      "outputs": []
    },
    {
      "cell_type": "code",
      "metadata": {
        "id": "j3C4p1kUOspy"
      },
      "source": [
        "class QLearningAgent:\n",
        "    def __init__(self, alpha, epsilon, discount, get_legal_actions):\n",
        "        self.get_legal_actions = get_legal_actions\n",
        "        self._qvalues = defaultdict(lambda: defaultdict(lambda: 0))\n",
        "        self.alpha = alpha\n",
        "        self.epsilon = epsilon\n",
        "        self.discount = discount\n",
        "\n",
        "    def get_qvalue(self, state, action):\n",
        "        return self._qvalues[state][action]\n",
        "\n",
        "    def set_qvalue(self, state, action, value):\n",
        "        self._qvalues[state][action] = value\n",
        "\n",
        "\n",
        "    def get_value(self, state):\n",
        "        possible_actions = self.get_legal_actions(state)\n",
        "        if len(possible_actions) == 0:\n",
        "            return 0.0\n",
        "        value = max([self.get_qvalue(state,a) for a in possible_actions])\n",
        "\n",
        "        return value\n",
        "\n",
        "    def update(self, state, action, reward, next_state):\n",
        "        gamma = self.discount\n",
        "        learning_rate = self.alpha\n",
        "        qvalue = (1-learning_rate)*self.get_qvalue(state,action) + learning_rate*(reward+gamma*self.get_value(next_state))\n",
        "        self.set_qvalue(state, action, qvalue)\n",
        "\n",
        "    def get_best_action(self, state):\n",
        "        possible_actions = self.get_legal_actions(state)\n",
        "        if len(possible_actions) == 0:\n",
        "            return None\n",
        "        q_dict = {a: self.get_qvalue(state,a) for a in possible_actions}\n",
        "    \n",
        "        max_q = max(q_dict.values())\n",
        "        best_actions = [action for action, q in q_dict.items() if q == max_q]\n",
        "        best_action = random.choice(best_actions)\n",
        "\n",
        "        return best_action\n",
        "\n",
        "    def get_action(self, state):\n",
        "        \n",
        "        possible_actions = self.get_legal_actions(state)\n",
        "        action = None\n",
        "        if len(possible_actions) == 0:\n",
        "            return None\n",
        "        epsilon = self.epsilon\n",
        "        if random.random() < self.epsilon:\n",
        "            chosen_action = random.choice(possible_actions)\n",
        "        else:\n",
        "            chosen_action = self.get_best_action(state)\n",
        "\n",
        "        return chosen_action"
      ],
      "execution_count": 2,
      "outputs": []
    },
    {
      "cell_type": "code",
      "metadata": {
        "id": "XnIV-9ohhSCc"
      },
      "source": [
        "class EVSarsaAgent(QLearningAgent):\n",
        "\n",
        "\n",
        "    def get_value(self, state):\n",
        "\n",
        "        epsilon = self.epsilon\n",
        "        possible_actions = self.get_legal_actions(state)\n",
        "\n",
        "       \n",
        "        if len(possible_actions) == 0:\n",
        "            return 0.0\n",
        "\n",
        "        \n",
        "        best_action = self.get_best_action(state)\n",
        "        state_value = (1-epsilon)*self.get_qvalue(state,best_action)\n",
        "\n",
        "        num_action = len(possible_actions)\n",
        "        for action in possible_actions:\n",
        "            state_value += epsilon/num_action*self.get_qvalue(state,action)\n",
        "\n",
        "        return state_value"
      ],
      "execution_count": 21,
      "outputs": []
    },
    {
      "cell_type": "code",
      "metadata": {
        "id": "HWRkfTEJSxFM"
      },
      "source": [
        "import gym\n",
        "import gym.envs.toy_text\n",
        "env = gym.envs.toy_text.CliffWalkingEnv()\n",
        "n_actions = env.action_space.n\n"
      ],
      "execution_count": 15,
      "outputs": []
    },
    {
      "cell_type": "code",
      "metadata": {
        "colab": {
          "base_uri": "https://localhost:8080/"
        },
        "id": "MrQhyw48YWx0",
        "outputId": "732eae0e-d47c-4b8f-bad8-b935b6633128"
      },
      "source": [
        "env.render()"
      ],
      "execution_count": 6,
      "outputs": [
        {
          "output_type": "stream",
          "text": [
            "o  o  o  o  o  o  o  o  o  o  o  o\n",
            "o  o  o  o  o  o  o  o  o  o  o  o\n",
            "o  o  o  o  o  o  o  o  o  o  o  o\n",
            "x  C  C  C  C  C  C  C  C  C  C  T\n",
            "\n"
          ],
          "name": "stdout"
        }
      ]
    },
    {
      "cell_type": "code",
      "metadata": {
        "id": "6UNdNQz2YkSX"
      },
      "source": [
        "def play_and_train(env, agent, t_max=10**4):\n",
        "    total_reward = 0.0\n",
        "    s = env.reset()\n",
        "\n",
        "    for t in range(t_max):\n",
        "        a = agent.get_action(s)\n",
        "\n",
        "        next_s, r, done, _ = env.step(a)\n",
        "        agent.update(s, a, r, next_s)\n",
        "\n",
        "        s = next_s\n",
        "        total_reward += r\n",
        "        if done:\n",
        "            break\n",
        "\n",
        "    return total_reward\n"
      ],
      "execution_count": 16,
      "outputs": []
    },
    {
      "cell_type": "code",
      "metadata": {
        "id": "x1gLx9rGZrI1"
      },
      "source": [
        "agent_sarsa = EVSarsaAgent(alpha = 0.25,epsilon=0.2,discount = 0.99,\n",
        "                           get_legal_actions=lambda s: range(n_actions))\n",
        "agent_ql = QLearningAgent(alpha=0.25, epsilon=0.2, discount=0.99,\n",
        "                          get_legal_actions=lambda s: range(n_actions))"
      ],
      "execution_count": 17,
      "outputs": []
    },
    {
      "cell_type": "code",
      "metadata": {
        "colab": {
          "base_uri": "https://localhost:8080/",
          "height": 316
        },
        "id": "mJeVPj07bcNs",
        "outputId": "79322763-9a81-4cfe-ae55-968782c63336"
      },
      "source": [
        "import pandas as pd\n",
        "from IPython.display import clear_output \n",
        "def moving_average(x,span = 100):\n",
        "  return pd.DataFrame({'x':np.asarray(x)}).x.ewm(span = span).mean().values\n",
        "rewards_sarsa, rewards_ql = [],[]\n",
        "for i in range(5000):\n",
        "  rewards_sarsa.append(play_and_train(env,agent_sarsa))\n",
        "  rewards_ql.append(play_and_train(env,agent_ql))\n",
        "  if i > 50000/5:\n",
        "    agent_sarsa.epsilon *= 0.9\n",
        "    agent_ql.epsilon *= 0.9\n",
        "  if i % 100 == 0:\n",
        "    clear_output(True)\n",
        "    print(\"EVSARSA mean reward =\", np.mean(rewards_sarsa[-100:]))\n",
        "    print(\"QLearning mean reward =\", np.mean(rewards_ql[-100:]))\n",
        "    plt.title(\"epsilon = %s\" %agent_ql.epsilon)\n",
        "    plt.plot(moving_average(rewards_sarsa), label = 'ev_sarsa')\n",
        "    plt.plot(moving_average(rewards_ql),label = 'qlearning')\n",
        "    plt.grid()\n",
        "    plt.legend()\n",
        "    plt.ylim(-500,0)\n",
        "    plt.show()\n",
        "    \n",
        "\n"
      ],
      "execution_count": 20,
      "outputs": [
        {
          "output_type": "stream",
          "text": [
            "EVSARSA mean reward = -29.05\n",
            "QLearning mean reward = -92.47\n"
          ],
          "name": "stdout"
        },
        {
          "output_type": "display_data",
          "data": {
            "image/png": "[encoded data removed]",
            "text/plain": [
              "<Figure size 432x288 with 1 Axes>"
            ]
          },
          "metadata": {
            "tags": [],
            "needs_background": "light"
          }
        }
      ]
    },
    {
      "cell_type": "code",
      "metadata": {
        "id": "VnhB5PfkbcQb"
      },
      "source": [
        "def draw_policy(env, agent):\n",
        "    n_rows, n_cols = env._cliff.shape\n",
        "\n",
        "    actions = '^>v<'\n",
        "\n",
        "    for yi in range(n_rows):\n",
        "        for xi in range(n_cols):\n",
        "            if env._cliff[yi, xi]:\n",
        "                print(\" C \", end='')\n",
        "            elif (yi * n_cols + xi) == env.start_state_index:\n",
        "                print(\" X \", end='')\n",
        "            elif (yi * n_cols + xi) == n_rows * n_cols - 1:\n",
        "                print(\" T \", end='')\n",
        "            else:\n",
        "                print(\" %s \" %\n",
        "                      actions[agent.get_best_action(yi * n_cols + xi)], end='')\n",
        "        print()              "
      ],
      "execution_count": 26,
      "outputs": []
    },
    {
      "cell_type": "code",
      "metadata": {
        "colab": {
          "base_uri": "https://localhost:8080/"
        },
        "id": "SPAY6wfimRwi",
        "outputId": "007045ac-0e03-4a93-8956-c56d4e12ea54"
      },
      "source": [
        "print(\"Q-Learning\")\n",
        "draw_policy(env, agent_ql)\n",
        "\n",
        "print(\"SARSA\")\n",
        "draw_policy(env, agent_sarsa)"
      ],
      "execution_count": 27,
      "outputs": [
        {
          "output_type": "stream",
          "text": [
            "Q-Learning\n",
            " v  v  >  v  >  >  v  >  v  >  >  v \n",
            " >  >  >  >  >  v  >  >  >  >  v  v \n",
            " >  >  >  >  >  >  >  >  >  >  >  v \n",
            " X  C  C  C  C  C  C  C  C  C  C  T \n",
            "SARSA\n",
            " >  >  >  >  >  >  >  >  >  >  >  v \n",
            " ^  ^  ^  >  >  >  >  >  >  >  >  v \n",
            " ^  ^  ^  ^  ^  ^  ^  ^  ^  ^  >  v \n",
            " X  C  C  C  C  C  C  C  C  C  C  T \n"
          ],
          "name": "stdout"
        }
      ]
    },
    {
      "cell_type": "code",
      "metadata": {
        "id": "Tj4GQDM4nRHG"
      },
      "source": [
        "class EVSoftmaxSarsaAgent(QLearningAgent):\n",
        "  def get_value(self,state):\n",
        "    epsilon = self.epsilon \n",
        "    possible_actions = self.get_legal_actions(state)\n",
        "    if len(possible_actions) == 0:\n",
        "      return 0.0\n",
        "    Qvalues = np.array([self.get_qvalue(state,action) for action in possible_actions])\n",
        "    exp_sum = sum(np.exp(Qvalues))\n",
        "    probs = [np.exp(q)/exp_sum for q in Qvalues]\n",
        "    state_value = 0\n",
        "    for idx,action in enumerate(possible_actions):\n",
        "      state_value += probs[idx]*Qvalues[idx]\n",
        "    return state_value \n",
        "          \n"
      ],
      "execution_count": 28,
      "outputs": []
    },
    {
      "cell_type": "code",
      "metadata": {
        "id": "kY0A7Y-jbcv9"
      },
      "source": [
        "agent_sarsa = EVSarsaAgent(alpha=0.25, epsilon=0.2, discount=0.99,\n",
        "                           get_legal_actions=lambda s: range(n_actions))\n",
        "\n",
        "agent_ql = QLearningAgent(alpha=0.25, epsilon=0.2, discount=0.99,\n",
        "                          get_legal_actions=lambda s: range(n_actions))\n",
        "\n",
        "agent_softmax = EVSoftmaxSarsaAgent(alpha=0.25, epsilon=0.2, discount=0.99,\n",
        "                          get_legal_actions=lambda s: range(n_actions))\n"
      ],
      "execution_count": 29,
      "outputs": []
    },
    {
      "cell_type": "code",
      "metadata": {
        "colab": {
          "base_uri": "https://localhost:8080/",
          "height": 333
        },
        "id": "-B1BSt_Ubc7P",
        "outputId": "818220fb-21c0-4748-cc75-4922dde1a8a0"
      },
      "source": [
        "from IPython.display import clear_output\n",
        "import pandas as pd\n",
        "\n",
        "def moving_average(x, span=100):\n",
        "    return pd.DataFrame({'x': np.asarray(x)}).x.ewm(span=span).mean().values\n",
        "\n",
        "rewards_sarsa, rewards_ql = [], []\n",
        "rewards_softmax = []\n",
        "\n",
        "for i in range(5000):\n",
        "    rewards_sarsa.append(play_and_train(env, agent_sarsa))\n",
        "    rewards_ql.append(play_and_train(env, agent_ql))\n",
        "    rewards_softmax.append(play_and_train(env, agent_softmax))\n",
        "\n",
        "    if i % 100 == 0:\n",
        "        clear_output(True)\n",
        "        print('EVSARSA mean reward =', np.mean(rewards_sarsa[-100:]))\n",
        "        print('QLEARNING mean reward =', np.mean(rewards_ql[-100:]))\n",
        "        print('SOFTMAX mean reward =', np.mean(rewards_softmax[-100:]))\n",
        "\n",
        "        plt.title(\"epsilon = %s\" % agent_ql.epsilon)\n",
        "        plt.plot(moving_average(rewards_sarsa), label='ev_sarsa')\n",
        "        plt.plot(moving_average(rewards_ql), label='qlearning')\n",
        "        plt.plot(moving_average(rewards_softmax), label='ev_softmax')\n",
        "        plt.grid()\n",
        "        plt.legend()\n",
        "        plt.ylim(-500, 0)\n",
        "        plt.show()"
      ],
      "execution_count": 31,
      "outputs": [
        {
          "output_type": "stream",
          "text": [
            "EVSARSA mean reward = -32.18\n",
            "QLEARNING mean reward = -122.7\n",
            "SOFTMAX mean reward = -92.01\n"
          ],
          "name": "stdout"
        },
        {
          "output_type": "display_data",
          "data": {
            "image/png": "[encoded data removed]",
            "text/plain": [
              "<Figure size 432x288 with 1 Axes>"
            ]
          },
          "metadata": {
            "tags": [],
            "needs_background": "light"
          }
        }
      ]
    },
    {
      "cell_type": "code",
      "metadata": {
        "colab": {
          "base_uri": "https://localhost:8080/"
        },
        "id": "xF-GTPf7bdGv",
        "outputId": "c2a2503a-8dca-4721-a9fd-e84111a98fb8"
      },
      "source": [
        "print(\"Q-Learning\")\n",
        "draw_policy(env, agent_ql)\n",
        "\n",
        "print(\"SARSA\")\n",
        "draw_policy(env, agent_sarsa)\n",
        "\n",
        "print(\"Softmax-SARSA\")\n",
        "draw_policy(env, agent_softmax)"
      ],
      "execution_count": 32,
      "outputs": [
        {
          "output_type": "stream",
          "text": [
            "Q-Learning\n",
            " v  v  v  >  >  v  v  >  >  v  >  v \n",
            " >  v  >  >  >  v  >  >  v  >  >  v \n",
            " >  >  >  >  >  >  >  >  >  >  >  v \n",
            " X  C  C  C  C  C  C  C  C  C  C  T \n",
            "SARSA\n",
            " >  >  >  >  >  >  >  >  >  >  >  v \n",
            " ^  ^  ^  ^  >  >  >  >  >  >  >  v \n",
            " ^  ^  ^  ^  ^  ^  ^  ^  ^  ^  >  v \n",
            " X  C  C  C  C  C  C  C  C  C  C  T \n",
            "Softmax-SARSA\n",
            " >  >  >  >  >  >  >  >  v  v  v  v \n",
            " >  >  >  >  >  >  >  >  >  >  v  v \n",
            " >  >  >  >  >  >  >  >  >  >  >  v \n",
            " X  C  C  C  C  C  C  C  C  C  C  T \n"
          ],
          "name": "stdout"
        }
      ]
    },
    {
      "cell_type": "code",
      "metadata": {
        "id": "o0z0WGdTbdYV"
      },
      "source": [
        ""
      ],
      "execution_count": null,
      "outputs": []
    },
    {
      "cell_type": "code",
      "metadata": {
        "id": "yRmBat3PbcJP"
      },
      "source": [
        ""
      ],
      "execution_count": null,
      "outputs": []
    }
  ]
}