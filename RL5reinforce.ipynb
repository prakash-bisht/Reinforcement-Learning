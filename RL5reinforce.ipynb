{
  "nbformat": 4,
  "nbformat_minor": 0,
  "metadata": {
    "kernelspec": {
      "display_name": "Python 3",
      "language": "python",
      "name": "python3"
    },
    "language_info": {
      "codemirror_mode": {
        "name": "ipython",
        "version": 3
      },
      "file_extension": ".py",
      "mimetype": "text/x-python",
      "name": "python",
      "nbconvert_exporter": "python",
      "pygments_lexer": "ipython3",
      "version": "3.6.5"
    },
    "colab": {
      "name": "practice_reinforce.ipynb",
      "provenance": []
    }
  },
  "cells": [
    {
      "cell_type": "markdown",
      "metadata": {
        "id": "84JnGzJqc2Yc"
      },
      "source": [
        "# REINFORCE in TensorFlow\n",
        "\n",
        "This notebook implements a basic reinforce algorithm a.k.a. policy gradient for CartPole env.\n",
        "\n",
        "It has been deliberately written to be as simple and human-readable.\n"
      ]
    },
    {
      "cell_type": "markdown",
      "metadata": {
        "id": "s-gZcbS9c2Yr"
      },
      "source": [
        "The notebook assumes that you have [openai gym](https://github.com/openai/gym) installed.\n",
        "\n",
        "In case you're running on a server, [use xvfb](https://github.com/openai/gym#rendering-on-a-server)"
      ]
    },
    {
      "cell_type": "code",
      "metadata": {
        "colab": {
          "base_uri": "https://localhost:8080/"
        },
        "id": "-LbJvkhqc2Yt",
        "outputId": "1c3a8ea5-b809-408f-ccbe-0fb3c724cd59"
      },
      "source": [
        "import sys, os\n",
        "if 'google.colab' in sys.modules:\n",
        "    %tensorflow_version 1.x\n",
        "    \n",
        "    if not os.path.exists('.setup_complete'):\n",
        "        !wget -q https://raw.githubusercontent.com/yandexdataschool/Practical_RL/master/setup_colab.sh -O- | bash\n",
        "\n",
        "        !wget -q https://raw.githubusercontent.com/yandexdataschool/Practical_RL/coursera/grading.py -O ../grading.py\n",
        "        !wget -q https://raw.githubusercontent.com/yandexdataschool/Practical_RL/coursera/week5_policy_based/submit.py\n",
        "\n",
        "        !touch .setup_complete\n",
        "\n",
        "# This code creates a virtual display to draw game images on.\n",
        "# It will have no effect if your machine has a monitor.\n",
        "if type(os.environ.get(\"DISPLAY\")) is not str or len(os.environ.get(\"DISPLAY\")) == 0:\n",
        "    !bash ../xvfb start\n",
        "    os.environ['DISPLAY'] = ':1'"
      ],
      "execution_count": 1,
      "outputs": [
        {
          "output_type": "stream",
          "text": [
            "TensorFlow 1.x selected.\n",
            "Selecting previously unselected package xvfb.\n",
            "(Reading database ... 144865 files and directories currently installed.)\n",
            "Preparing to unpack .../xvfb_2%3a1.19.6-1ubuntu4.8_amd64.deb ...\n",
            "Unpacking xvfb (2:1.19.6-1ubuntu4.8) ...\n",
            "Setting up xvfb (2:1.19.6-1ubuntu4.8) ...\n",
            "Processing triggers for man-db (2.8.3-2ubuntu0.1) ...\n",
            "Starting virtual X frame buffer: Xvfb.\n"
          ],
          "name": "stdout"
        }
      ]
    },
    {
      "cell_type": "code",
      "metadata": {
        "colab": {
          "base_uri": "https://localhost:8080/",
          "height": 338
        },
        "id": "SDKe-ZnWc2Yz",
        "outputId": "2d91d672-67b4-4d4e-f620-fd98d36a8752"
      },
      "source": [
        "import gym\n",
        "import numpy as np, pandas as pd\n",
        "import matplotlib.pyplot as plt\n",
        "%matplotlib inline\n",
        "\n",
        "env = gym.make(\"CartPole-v0\")\n",
        "\n",
        "#gym compatibility: unwrap TimeLimit\n",
        "if hasattr(env,'env'):\n",
        "    env=env.env\n",
        "\n",
        "x=env.reset()\n",
        "n_actions = env.action_space.n\n",
        "state_dim = env.observation_space.shape\n",
        "print(n_actions)\n",
        "print(state_dim)\n",
        "print(x)\n",
        "\n",
        "plt.imshow(env.render(\"rgb_array\"))"
      ],
      "execution_count": 2,
      "outputs": [
        {
          "output_type": "stream",
          "text": [
            "2\n",
            "(4,)\n",
            "[-0.00393026  0.01603155  0.04318051  0.04263353]\n"
          ],
          "name": "stdout"
        },
        {
          "output_type": "execute_result",
          "data": {
            "text/plain": [
              "<matplotlib.image.AxesImage at 0x7fe8bf48d978>"
            ]
          },
          "metadata": {
            "tags": []
          },
          "execution_count": 2
        },
        {
          "output_type": "display_data",
          "data": {
            "image/png": "[encoded data removed]",
            "text/plain": [
              "<Figure size 432x288 with 1 Axes>"
            ]
          },
          "metadata": {
            "tags": [],
            "needs_background": "light"
          }
        }
      ]
    },
    {
      "cell_type": "markdown",
      "metadata": {
        "id": "UNYsHKmyc2Y2"
      },
      "source": [
        "# Building the policy network"
      ]
    },
    {
      "cell_type": "markdown",
      "metadata": {
        "id": "yrzeD3Ttc2Y3"
      },
      "source": [
        "For REINFORCE algorithm, we'll need a model that predicts action probabilities given states.\n",
        "\n",
        "For numerical stability, please __do not include the softmax layer into your network architecture__. \n",
        "\n",
        "We'll use softmax or log-softmax where appropriate."
      ]
    },
    {
      "cell_type": "code",
      "metadata": {
        "id": "Z1cwNQkzc2Y8"
      },
      "source": [
        "import tensorflow as tf\n",
        "\n",
        "#create input variables. We only need <s,a,R> for REINFORCE\n",
        "states = tf.placeholder('float32',(None,)+state_dim,name=\"states\")\n",
        "actions = tf.placeholder('int32',name=\"action_ids\")\n",
        "cumulative_rewards = tf.placeholder('float32', name=\"cumulative_returns\")"
      ],
      "execution_count": 3,
      "outputs": []
    },
    {
      "cell_type": "code",
      "metadata": {
        "colab": {
          "base_uri": "https://localhost:8080/"
        },
        "id": "OydSFhtac2Y-",
        "outputId": "a3a3d69b-49cf-4a97-8be5-8e17e6b7a30d"
      },
      "source": [
        "#<define network graph using raw tf or any deep learning library>\n",
        "import keras\n",
        "import keras.layers as L\n",
        "\n",
        "network = keras.models.Sequential()\n",
        "network.add(L.Dense(32, activation='relu', input_shape=state_dim))\n",
        "network.add(L.Dense(32, activation='relu'))\n",
        "network.add(L.Dense(n_actions, activation='linear'))\n",
        "\n",
        "logits = network(states)\n",
        "\n",
        "#####################\n",
        "policy = tf.nn.softmax(logits)\n",
        "log_policy = tf.nn.log_softmax(logits)"
      ],
      "execution_count": 4,
      "outputs": [
        {
          "output_type": "stream",
          "text": [
            "WARNING:tensorflow:From /tensorflow-1.15.2/python3.6/tensorflow_core/python/ops/resource_variable_ops.py:1630: calling BaseResourceVariable.__init__ (from tensorflow.python.ops.resource_variable_ops) with constraint is deprecated and will be removed in a future version.\n",
            "Instructions for updating:\n",
            "If using Keras pass *_constraint arguments to layers.\n"
          ],
          "name": "stdout"
        },
        {
          "output_type": "stream",
          "text": [
            "Using TensorFlow backend.\n"
          ],
          "name": "stderr"
        }
      ]
    },
    {
      "cell_type": "code",
      "metadata": {
        "id": "Mr_6ML48c2ZB"
      },
      "source": [
        "#utility function to pick action in one given state\n",
        "get_action_proba = lambda s: policy.eval({states:[s]})[0] "
      ],
      "execution_count": 5,
      "outputs": []
    },
    {
      "cell_type": "markdown",
      "metadata": {
        "id": "4csclN4cc2ZC"
      },
      "source": [
        "#### Loss function and updates\n",
        "\n",
        "We now need to define objective and update over policy gradient.\n",
        "\n",
        "Our objective function is\n",
        "\n",
        "$$ J \\approx  { 1 \\over N } \\sum  _{s_i,a_i} \\pi_\\theta (a_i | s_i) \\cdot G(s_i,a_i) $$\n",
        "\n",
        "\n",
        "Following the REINFORCE algorithm, we can define our objective as follows: \n",
        "\n",
        "$$ \\hat J \\approx { 1 \\over N } \\sum  _{s_i,a_i} log \\pi_\\theta (a_i | s_i) \\cdot G(s_i,a_i) $$\n",
        "\n",
        "When you compute gradient of that function over network weights $ \\theta $, it will become exactly the policy gradient.\n"
      ]
    },
    {
      "cell_type": "code",
      "metadata": {
        "id": "fF_WeR6Xc2ZE"
      },
      "source": [
        "#get probabilities for parti\n",
        "indices = tf.stack([tf.range(tf.shape(log_policy)[0]),actions],axis=-1)\n",
        "log_policy_for_actions = tf.gather_nd(log_policy,indices)"
      ],
      "execution_count": 6,
      "outputs": []
    },
    {
      "cell_type": "code",
      "metadata": {
        "id": "HW8ZgdRIc2ZN"
      },
      "source": [
        "# policy objective as in the last formula. please use mean, not sum.\n",
        "# note: you need to use log_policy_for_actions to get log probabilities for actions taken\n",
        "\n",
        "J = tf.reduce_mean(log_policy_for_actions*cumulative_rewards)\n"
      ],
      "execution_count": 7,
      "outputs": []
    },
    {
      "cell_type": "code",
      "metadata": {
        "id": "5oHrNDBQc2ZO"
      },
      "source": [
        "#regularize with entropy\n",
        "entropy =  -tf.reduce_sum(policy * log_policy, 1, name=\"entropy\")"
      ],
      "execution_count": 8,
      "outputs": []
    },
    {
      "cell_type": "code",
      "metadata": {
        "id": "TIEC91Occ2ZP"
      },
      "source": [
        "#all network weights\n",
        "all_weights = tf.get_collection(tf.GraphKeys.TRAINABLE_VARIABLES)\n",
        "\n",
        "#weight updates. maximizing J is same as minimizing -J. Adding negative entropy.\n",
        "loss = -J -0.1 * entropy\n",
        "\n",
        "update = tf.train.AdamOptimizer().minimize(loss,var_list=all_weights)"
      ],
      "execution_count": 9,
      "outputs": []
    },
    {
      "cell_type": "markdown",
      "metadata": {
        "id": "Lf2Yu4p-c2ZP"
      },
      "source": [
        "### Computing cumulative rewards"
      ]
    },
    {
      "cell_type": "code",
      "metadata": {
        "id": "mRPUntu_c2ZQ"
      },
      "source": [
        "from collections import deque\n",
        "def get_cumulative_rewards(rewards, #rewards at each step\n",
        "                           gamma = 0.99 #discount for reward\n",
        "                           ):\n",
        "    \"\"\"\n",
        "    take a list of immediate rewards r(s,a) for the whole session \n",
        "    compute cumulative rewards R(s,a) (a.k.a. G(s,a) in Sutton '16)\n",
        "    R_t = r_t + gamma*r_{t+1} + gamma^2*r_{t+2} + ...\n",
        "    \n",
        "    The simple way to compute cumulative rewards is to iterate from last to first time tick\n",
        "    and compute R_t = r_t + gamma*R_{t+1} recurrently\n",
        "    \n",
        "    You must return an array/list of cumulative rewards with as many elements as in the initial rewards.\n",
        "    \"\"\"\n",
        "    \n",
        "    cumulative_rewards = deque([rewards[-1]])\n",
        "    for i in range(len(rewards)-2, -1, -1):\n",
        "        cumulative_rewards.appendleft(rewards[i]+gamma*cumulative_rewards[0])\n",
        "    \n",
        "        \n",
        "    return cumulative_rewards\n",
        "    \n",
        "    "
      ],
      "execution_count": 10,
      "outputs": []
    },
    {
      "cell_type": "code",
      "metadata": {
        "colab": {
          "base_uri": "https://localhost:8080/"
        },
        "id": "Pm6Y_XU0c2ZR",
        "outputId": "0697d25f-34ff-4ba9-de7d-a15a688ca7b2"
      },
      "source": [
        "assert len(get_cumulative_rewards(range(100))) == 100\n",
        "assert np.allclose(get_cumulative_rewards([0,0,1,0,0,1,0],gamma=0.9),[1.40049, 1.5561, 1.729, 0.81, 0.9, 1.0, 0.0])\n",
        "assert np.allclose(get_cumulative_rewards([0,0,1,-2,3,-4,0],gamma=0.5), [0.0625, 0.125, 0.25, -1.5, 1.0, -4.0, 0.0])\n",
        "assert np.allclose(get_cumulative_rewards([0,0,1,2,3,4,0],gamma=0), [0, 0, 1, 2, 3, 4, 0])\n",
        "print(\"looks good!\")"
      ],
      "execution_count": 11,
      "outputs": [
        {
          "output_type": "stream",
          "text": [
            "looks good!\n"
          ],
          "name": "stdout"
        }
      ]
    },
    {
      "cell_type": "code",
      "metadata": {
        "id": "vgcp79bWc2ZS"
      },
      "source": [
        "def train_step(_states,_actions,_rewards):\n",
        "    \"\"\"given full session, trains agent with policy gradient\"\"\"\n",
        "    _cumulative_rewards = get_cumulative_rewards(_rewards)\n",
        "    update.run({states:_states,actions:_actions,cumulative_rewards:_cumulative_rewards})"
      ],
      "execution_count": 12,
      "outputs": []
    },
    {
      "cell_type": "markdown",
      "metadata": {
        "id": "V-3faZTnc2ZT"
      },
      "source": [
        "### Playing the game"
      ]
    },
    {
      "cell_type": "code",
      "metadata": {
        "id": "CeFJORbNc2ZU"
      },
      "source": [
        "def generate_session(t_max=1000):\n",
        "    \"\"\"play env with REINFORCE agent and train at the session end\"\"\"\n",
        "    \n",
        "    #arrays to record session\n",
        "    states,actions,rewards = [],[],[]\n",
        "    \n",
        "    s = env.reset()\n",
        "    \n",
        "    for t in range(t_max):\n",
        "        \n",
        "        #action probabilities array aka pi(a|s)\n",
        "        action_probas = get_action_proba(s)\n",
        "        \n",
        "        a = np.random.choice(n_actions, 1, p=action_probas)[0]\n",
        "        \n",
        "        new_s,r,done,info = env.step(a)\n",
        "        \n",
        "        #record session history to train later\n",
        "        states.append(s)\n",
        "        actions.append(a)\n",
        "        rewards.append(r)\n",
        "        \n",
        "        s = new_s\n",
        "        if done: break\n",
        "            \n",
        "    train_step(states,actions,rewards)\n",
        "            \n",
        "    return sum(rewards)\n",
        "        "
      ],
      "execution_count": 13,
      "outputs": []
    },
    {
      "cell_type": "code",
      "metadata": {
        "colab": {
          "base_uri": "https://localhost:8080/"
        },
        "id": "54R1ODQWc2ZV",
        "outputId": "0d147c79-b676-48c9-ad39-81e5f2ae69e9"
      },
      "source": [
        "s = tf.InteractiveSession()\n",
        "s.run(tf.global_variables_initializer())\n",
        "\n",
        "for i in range(100):\n",
        "    \n",
        "    rewards = [generate_session() for _ in range(100)] #generate new sessions\n",
        "    \n",
        "    print (\"mean reward:%.3f\"%(np.mean(rewards)))\n",
        "\n",
        "    if np.mean(rewards) > 300:\n",
        "        print (\"You Win!\")\n",
        "        break\n",
        "        \n"
      ],
      "execution_count": 14,
      "outputs": [
        {
          "output_type": "stream",
          "text": [
            "mean reward:30.150\n",
            "mean reward:78.010\n",
            "mean reward:209.300\n",
            "mean reward:246.770\n",
            "mean reward:617.790\n",
            "You Win!\n"
          ],
          "name": "stdout"
        }
      ]
    },
    {
      "cell_type": "markdown",
      "metadata": {
        "id": "JuexeuSGc2Zk"
      },
      "source": [
        "### Results & video"
      ]
    },
    {
      "cell_type": "code",
      "metadata": {
        "id": "oTKFEJQ-c2Zl",
        "outputId": "28c557a8-1414-492b-d7f1-4218b46eb1b4"
      },
      "source": [
        "#record sessions\n",
        "import gym.wrappers\n",
        "env = gym.wrappers.Monitor(gym.make(\"CartPole-v0\"),directory=\"videos\",force=True)\n",
        "sessions = [generate_session() for _ in range(100)]\n",
        "env.close()\n"
      ],
      "execution_count": null,
      "outputs": [
        {
          "output_type": "stream",
          "text": [
            "\u001b[33mWARN: gym.spaces.Box autodetected dtype as <class 'numpy.float32'>. Please provide explicit dtype.\u001b[0m\n"
          ],
          "name": "stdout"
        }
      ]
    },
    {
      "cell_type": "code",
      "metadata": {
        "id": "L4jgoF69c2Zm",
        "outputId": "c3cbb06a-b372-4bac-bdd4-a232f6c4aaaf"
      },
      "source": [
        "#show video\n",
        "from IPython.display import HTML\n",
        "import os\n",
        "\n",
        "video_names = list(filter(lambda s:s.endswith(\".mp4\"),os.listdir(\"./videos/\")))\n",
        "\n",
        "HTML(\"\"\"\n",
        "<video width=\"640\" height=\"480\" controls>\n",
        "  <source src=\"{}\" type=\"video/mp4\">\n",
        "</video>\n",
        "\"\"\".format(\"./videos/\"+video_names[-1])) #this may or may not be _last_ video. Try other indices"
      ],
      "execution_count": null,
      "outputs": [
        {
          "output_type": "execute_result",
          "data": {
            "text/html": [
              "\n",
              "<video width=\"640\" height=\"480\" controls>\n",
              "  <source src=\"./videos/openaigym.video.1.31125.video000001.mp4\" type=\"video/mp4\">\n",
              "</video>\n"
            ],
            "text/plain": [
              "<IPython.core.display.HTML object>"
            ]
          },
          "metadata": {
            "tags": []
          },
          "execution_count": 17
        }
      ]
    },
    {
      "cell_type": "code",
      "metadata": {
        "id": "Y8oq7H14c2Zm",
        "outputId": "550271af-1100-44be-8627-d51f3e7a7f2d"
      },
      "source": [
        "from submit import submit_cartpole\n",
        "submit_cartpole(generate_session, '', '')"
      ],
      "execution_count": null,
      "outputs": [
        {
          "output_type": "stream",
          "text": [
            "Submitted to Coursera platform. See results on assignment page!\n"
          ],
          "name": "stdout"
        }
      ]
    },
    {
      "cell_type": "code",
      "metadata": {
        "collapsed": true,
        "id": "gCO0tWVlc2Zo"
      },
      "source": [
        "# That's all, thank you for your attention!\n",
        "# Not having enough? There's an actor-critic waiting for you in the honor section.\n",
        "# But make sure you've seen the videos first."
      ],
      "execution_count": null,
      "outputs": []
    }
  ]
}