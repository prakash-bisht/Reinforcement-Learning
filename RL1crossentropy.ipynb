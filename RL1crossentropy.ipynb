{
  "nbformat": 4,
  "nbformat_minor": 0,
  "metadata": {
    "colab": {
      "name": "Untitled10.ipynb",
      "provenance": []
    },
    "kernelspec": {
      "name": "python3",
      "display_name": "Python 3"
    }
  },
  "cells": [
    {
      "cell_type": "code",
      "metadata": {
        "colab": {
          "base_uri": "https://localhost:8080/"
        },
        "id": "RM6BTFD7yklB",
        "outputId": "51833c35-62e0-4c1e-d269-b5ef261b5758"
      },
      "source": [
        "import sys, os\n",
        "if 'google.colab' in sys.modules and not os.path.exists('.setup_complete'):\n",
        "    !wget -q https://raw.githubusercontent.com/yandexdataschool/Practical_RL/spring20/setup_colab.sh -O- | bash\n",
        "\n",
        "    !wget -q https://raw.githubusercontent.com/yandexdataschool/Practical_RL/coursera/grading.py -O ../grading.py\n",
        "    !wget -q https://raw.githubusercontent.com/yandexdataschool/Practical_RL/coursera/week1_intro/submit.py\n",
        "\n",
        "    !touch .setup_complete\n",
        "\n",
        "# This code creates a virtual display to draw game images on.\n",
        "# It will have no effect if your machine has a monitor.\n",
        "if type(os.environ.get(\"DISPLAY\")) is not str or len(os.environ.get(\"DISPLAY\")) == 0:\n",
        "    !bash ../xvfb start\n",
        "    os.environ['DISPLAY'] = ':1'"
      ],
      "execution_count": 5,
      "outputs": [
        {
          "output_type": "stream",
          "text": [
            "(Reading database ... 144793 files and directories currently installed.)\n",
            "Preparing to unpack .../xserver-common_2%3a1.19.6-1ubuntu4.8_all.deb ...\n",
            "Unpacking xserver-common (2:1.19.6-1ubuntu4.8) over (2:1.19.6-1ubuntu4.7) ...\n",
            "Selecting previously unselected package xvfb.\n",
            "Preparing to unpack .../xvfb_2%3a1.19.6-1ubuntu4.8_amd64.deb ...\n",
            "Unpacking xvfb (2:1.19.6-1ubuntu4.8) ...\n",
            "Setting up xserver-common (2:1.19.6-1ubuntu4.8) ...\n",
            "Setting up xvfb (2:1.19.6-1ubuntu4.8) ...\n",
            "Processing triggers for man-db (2.8.3-2ubuntu0.1) ...\n",
            "Starting virtual X frame buffer: Xvfb.\n"
          ],
          "name": "stdout"
        }
      ]
    },
    {
      "cell_type": "code",
      "metadata": {
        "colab": {
          "base_uri": "https://localhost:8080/"
        },
        "id": "XnGmNv6ly7hj",
        "outputId": "9da58006-f346-43b4-d8fe-1d6968a2aeb9"
      },
      "source": [
        "import gym \n",
        "import numpy as np \n",
        "try: \n",
        "  env = gym.make(\"Taxi-v3\")\n",
        "except gym.error.DepractedEnv:\n",
        "  env = gym.make(\"Taxi-v2\")\n",
        "env.reset()\n",
        "env.render()\n",
        "    "
      ],
      "execution_count": 6,
      "outputs": [
        {
          "output_type": "stream",
          "text": [
            "+---------+\n",
            "|R: | : :\u001b[34;1mG\u001b[0m|\n",
            "| :\u001b[43m \u001b[0m| : : |\n",
            "| : : : : |\n",
            "| | : | : |\n",
            "|Y| : |\u001b[35mB\u001b[0m: |\n",
            "+---------+\n",
            "\n"
          ],
          "name": "stdout"
        }
      ]
    },
    {
      "cell_type": "code",
      "metadata": {
        "colab": {
          "base_uri": "https://localhost:8080/"
        },
        "id": "1NPwYIE7ywmH",
        "outputId": "d992efdb-f2ac-41c5-bc8d-1de460b6de74"
      },
      "source": [
        "n_states = env.observation_space.n\n",
        "n_actions = env.action_space.n\n",
        "print(\"n_states=%i,n_actions=%i\"%(n_states,n_actions))\n",
        "print(\"observation: %s\" % env.observation_space)\n",
        "print(\"action: %s\" %env.action_space)\n"
      ],
      "execution_count": 7,
      "outputs": [
        {
          "output_type": "stream",
          "text": [
            "n_states=500,n_actions=6\n",
            "observation: Discrete(500)\n",
            "action: Discrete(6)\n"
          ],
          "name": "stdout"
        }
      ]
    },
    {
      "cell_type": "code",
      "metadata": {
        "colab": {
          "base_uri": "https://localhost:8080/"
        },
        "id": "KoTCLCvP1UHp",
        "outputId": "16208a36-695d-4cf6-ba12-82ef1fafc9d9"
      },
      "source": [
        "policy = np.ones((n_states,n_actions)) * (1.0/n_actions)\n",
        "print(policy[10,:])"
      ],
      "execution_count": 8,
      "outputs": [
        {
          "output_type": "stream",
          "text": [
            "[0.16666667 0.16666667 0.16666667 0.16666667 0.16666667 0.16666667]\n"
          ],
          "name": "stdout"
        }
      ]
    },
    {
      "cell_type": "code",
      "metadata": {
        "id": "4VgrDEXk2Qc3"
      },
      "source": [
        "assert type(policy) in (np.ndarray,np.matrix)\n",
        "assert np.allclose(policy,1./n_actions)\n",
        "assert np.allclose(np.sum(policy,axis = 1),1)\n"
      ],
      "execution_count": 9,
      "outputs": []
    },
    {
      "cell_type": "code",
      "metadata": {
        "id": "0AyoG0A21US3"
      },
      "source": [
        "def generate_session(env, policy, t_max=10**4):\n",
        "    states, actions = [], []\n",
        "    total_reward = 0.\n",
        "\n",
        "    s = env.reset()\n",
        "\n",
        "    for t in range(t_max):\n",
        "\n",
        "        a = np.random.choice(n_actions, p=policy[s,:])\n",
        "        new_s, r, done, info = env.step(a)\n",
        "        states.append(s)\n",
        "        actions.append(a)\n",
        "        total_reward += r\n",
        "\n",
        "        s = new_s\n",
        "        if done:\n",
        "            break\n",
        "    return states, actions, total_reward"
      ],
      "execution_count": 10,
      "outputs": []
    },
    {
      "cell_type": "code",
      "metadata": {
        "id": "iHAtTxGE1UVG"
      },
      "source": [
        "s,a,r = generate_session(env,policy)\n",
        "assert type(s) == type(a) == list \n",
        "assert len(s) == len(a)\n",
        "assert type(r) in [float,np.float]\n"
      ],
      "execution_count": 11,
      "outputs": []
    },
    {
      "cell_type": "code",
      "metadata": {
        "colab": {
          "base_uri": "https://localhost:8080/",
          "height": 282
        },
        "id": "dhAxn7ZZ1UX0",
        "outputId": "f1ae9421-c508-4169-f903-2c145c659997"
      },
      "source": [
        "import matplotlib.pyplot as plt \n",
        "sample_rewards = [generate_session(env,policy,t_max = 1000)[-1] for _ in range(200)]\n",
        "plt.hist(sample_rewards)\n",
        "plt.vlines([np.percentile(sample_rewards,50)],[0],[100],label = \"50 th percentile\",color = \"green\")\n",
        "plt.vlines([np.percentile(sample_rewards,90)],[0],[100],label = \"50 th percentile\",color = \"red\")\n",
        "plt.legend()   "
      ],
      "execution_count": 12,
      "outputs": [
        {
          "output_type": "execute_result",
          "data": {
            "text/plain": [
              "<matplotlib.legend.Legend at 0x7f533a47a588>"
            ]
          },
          "metadata": {
            "tags": []
          },
          "execution_count": 12
        },
        {
          "output_type": "display_data",
          "data": {
            "image/png": "[encoded data removed]",
            "text/plain": [
              "<Figure size 432x288 with 1 Axes>"
            ]
          },
          "metadata": {
            "tags": [],
            "needs_background": "light"
          }
        }
      ]
    },
    {
      "cell_type": "code",
      "metadata": {
        "id": "R_Uob6JQ1UaH"
      },
      "source": [
        "def select_elites(states_batch,actions_batch,rewards_batch,percentile):\n",
        "  reward_threshold = np.percentile(rewards_batch,percentile)\n",
        "  elite_ids = rewards_batch >= reward_threshold \n",
        "  elite_states = []\n",
        "  elite_actions = []\n",
        "  for id,val in enumerate(elite_ids):\n",
        "    if val:\n",
        "      elite_states.extend([s for s in states_batch[id]])\n",
        "      elite_actions.extend([a for a in actions_batch[id]])\n",
        "  print(elite_states)\n",
        "  print(elite_actions)\n",
        "  return elite_states,elite_actions \n",
        "        \n"
      ],
      "execution_count": 13,
      "outputs": []
    },
    {
      "cell_type": "code",
      "metadata": {
        "colab": {
          "base_uri": "https://localhost:8080/"
        },
        "id": "B5ypH7vK8WLv",
        "outputId": "acdff5ce-dda0-498e-e131-168d27f5d826"
      },
      "source": [
        "states_batch = [\n",
        "    [1, 2, 3],     \n",
        "    [4, 2, 0, 2],  \n",
        "    [3, 1],        \n",
        "]\n",
        "\n",
        "actions_batch = [\n",
        "    [0, 2, 4],     \n",
        "    [3, 2, 0, 1],  \n",
        "    [3, 3],        \n",
        "]\n",
        "rewards_batch = [\n",
        "    3,  \n",
        "    4,  \n",
        "    5,  \n",
        "]\n",
        "test_result_0 = select_elites(states_batch,actions_batch,rewards_batch,percentile = 0)\n",
        "test_result_30 = select_elites(states_batch,actions_batch,rewards_batch,percentile = 30)\n",
        "test_result_50 = select_elites(states_batch,actions_batch,rewards_batch,percentile = 50)\n",
        "test_result_90 = select_elites(states_batch,actions_batch,rewards_batch,percentile = 90)"
      ],
      "execution_count": 14,
      "outputs": [
        {
          "output_type": "stream",
          "text": [
            "[1, 2, 3, 4, 2, 0, 2, 3, 1]\n",
            "[0, 2, 4, 3, 2, 0, 1, 3, 3]\n",
            "[4, 2, 0, 2, 3, 1]\n",
            "[3, 2, 0, 1, 3, 3]\n",
            "[4, 2, 0, 2, 3, 1]\n",
            "[3, 2, 0, 1, 3, 3]\n",
            "[3, 1]\n",
            "[3, 3]\n"
          ],
          "name": "stdout"
        }
      ]
    },
    {
      "cell_type": "code",
      "metadata": {
        "id": "dx3GNMqZ1Ucp"
      },
      "source": [
        "def update_policy(elite_states,elite_actions):\n",
        "  new_policy = np.zeros([n_states,n_actions])\n",
        "  for s,a in zip(elite_states,elite_actions):\n",
        "    new_policy[s][a] += 1\n",
        "  sum_of_rows = new_policy.sum(axis =1)\n",
        "  for idx,r in enumerate(sum_of_rows):\n",
        "    if r == 0:\n",
        "      new_policy[idx] = np.ones([n_actions])/n_actions \n",
        "    else:\n",
        "      new_policy[idx] = new_policy[idx]/r\n",
        "  return new_policy       \n"
      ],
      "execution_count": 15,
      "outputs": []
    },
    {
      "cell_type": "code",
      "metadata": {
        "id": "Xocukbi7gEb-"
      },
      "source": [
        "elite_states = [1, 2, 3, 4, 2, 0, 2, 3, 1]\n",
        "elite_actions = [0, 2, 4, 3, 2, 0, 1, 3, 3]\n",
        "new_policy = update_policy(elite_states,elite_actions)\n"
      ],
      "execution_count": 16,
      "outputs": []
    },
    {
      "cell_type": "code",
      "metadata": {
        "id": "D07m8olpjFod"
      },
      "source": [
        "from IPython.display import clear_output\n",
        "\n",
        "def show_progress(rewards_batch, log, percentile, reward_range=[-990, +10]):\n",
        "  \n",
        "    mean_reward = np.mean(rewards_batch)\n",
        "\n",
        "    max_reward = np.max(rewards_batch)\n",
        "    min_reward = np.min(rewards_batch)\n",
        "\n",
        "    threshold = np.percentile(rewards_batch, percentile)\n",
        "    log.append([mean_reward, threshold, max_reward, min_reward])\n",
        "    \n",
        "    plt.figure(figsize=[8, 4])\n",
        "    plt.subplot(1, 2, 1)\n",
        "    plt.plot(list(zip(*log))[0], label='Mean rewards')\n",
        "    plt.plot(list(zip(*log))[1], label='Reward thresholds')\n",
        "\n",
        "    plt.fill_between(range(len(log)), list(zip(*log))[2],list(zip(*log))[3], facecolor='blue', alpha=0.2)\n",
        "   \n",
        "    plt.legend()\n",
        "    plt.grid()\n",
        "\n",
        "    plt.subplot(1, 2, 2)\n",
        "    plt.hist(rewards_batch, range=reward_range)\n",
        "    plt.vlines([np.percentile(rewards_batch, percentile)],\n",
        "               [0], [100], label=\"percentile\", color='red')\n",
        "    plt.legend()\n",
        "    plt.grid()\n",
        "    clear_output(True)\n",
        "    print(\"mean reward = %.3f, threshold=%.3f\" % (mean_reward, threshold))\n",
        "    plt.show()"
      ],
      "execution_count": 25,
      "outputs": []
    },
    {
      "cell_type": "code",
      "metadata": {
        "id": "y4ak9jWPpovh"
      },
      "source": [
        "policy = np.ones([n_states,n_actions])/n_actions"
      ],
      "execution_count": 26,
      "outputs": []
    },
    {
      "cell_type": "code",
      "metadata": {
        "colab": {
          "base_uri": "https://localhost:8080/",
          "height": 282
        },
        "id": "bSmPAZbepo6E",
        "outputId": "1fc408e6-c953-4046-cae7-072a01d820ac"
      },
      "source": [
        "n_sessions = 250 \n",
        "percentile = 50 \n",
        "learning_rate = 0.5  \n",
        "\n",
        "log = []\n",
        "\n",
        "for i in range(100):\n",
        "\n",
        "   \n",
        "    %time sessions = [generate_session(env, policy) for _ in range(n_sessions)]\n",
        "\n",
        "    states_batch, actions_batch, rewards_batch = zip(*sessions)\n",
        "\n",
        "   \n",
        "    elite_states, elite_actions = select_elites(states_batch,actions_batch,rewards_batch,percentile)\n",
        "\n",
        "    \n",
        "    new_policy = update_policy(elite_states,elite_actions)\n",
        "    \n",
        "    policy = learning_rate*new_policy + (1-learning_rate)*policy\n",
        "\n",
        "    \n",
        "    show_progress(rewards_batch, log, percentile)\n"
      ],
      "execution_count": 30,
      "outputs": [
        {
          "output_type": "stream",
          "text": [
            "mean reward = -81.184, threshold=1.500\n"
          ],
          "name": "stdout"
        },
        {
          "output_type": "display_data",
          "data": {
            "image/png": "[encoded data removed]",
            "text/plain": [
              "<Figure size 576x288 with 2 Axes>"
            ]
          },
          "metadata": {
            "tags": [],
            "needs_background": "light"
          }
        }
      ]
    },
    {
      "cell_type": "code",
      "metadata": {
        "colab": {
          "base_uri": "https://localhost:8080/"
        },
        "id": "k27NpBce1Ugk",
        "outputId": "eb9e4f33-df87-42b0-fd0a-e6883e4ee165"
      },
      "source": [
        "from time import sleep\n",
        "\n",
        "t_max = 10**4\n",
        "total_reward = 0.\n",
        "\n",
        "s = env.reset()\n",
        "\n",
        "for t in range(t_max):\n",
        "\n",
        "    \n",
        "    a = np.random.choice(n_actions, p=policy[s,:])\n",
        "\n",
        "    new_s, r, done, info = env.step(a)\n",
        "    \n",
        "    clear_output(True)\n",
        "    env.render()\n",
        "    print(\"T_reward: %f\" % total_reward)\n",
        "    sleep(0.1)\n",
        "    \n",
        " \n",
        "    total_reward += r\n",
        "\n",
        "    s = new_s\n",
        "    if done:\n",
        "        break"
      ],
      "execution_count": 31,
      "outputs": [
        {
          "output_type": "stream",
          "text": [
            "+---------+\n",
            "|R: | : :G|\n",
            "| : | : : |\n",
            "| : : : : |\n",
            "| | : | : |\n",
            "|Y| : |\u001b[35m\u001b[34;1m\u001b[43mB\u001b[0m\u001b[0m\u001b[0m: |\n",
            "+---------+\n",
            "  (Dropoff)\n",
            "T_reward: -12.000000\n"
          ],
          "name": "stdout"
        }
      ]
    },
    {
      "cell_type": "code",
      "metadata": {
        "id": "-CgNWrBU1Lop"
      },
      "source": [
        ""
      ],
      "execution_count": null,
      "outputs": []
    }
  ]
}